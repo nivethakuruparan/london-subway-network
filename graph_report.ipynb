{
 "cells": [
  {
   "cell_type": "markdown",
   "id": "2cce0696",
   "metadata": {},
   "source": [
    "# Benchmarking Report "
   ]
  },
  {
   "cell_type": "markdown",
   "id": "f1f0fd58",
   "metadata": {},
   "source": [
    "## Benchmark to Compare Itinerary Finding Algorithms\n",
    "\n",
    "* Right KPIs to measure \n",
    "* right cases(itineraries) to consider for this benchmark "
   ]
  },
  {
   "cell_type": "markdown",
   "id": "9a63ad61",
   "metadata": {},
   "source": [
    "* provide a class diagram \n",
    "* justify your design choices \n",
    "* present and analyse benchmark results \n",
    "* describe how you have split the work and who did what "
   ]
  }
 ],
 "metadata": {
  "kernelspec": {
   "display_name": "Python 3 (ipykernel)",
   "language": "python",
   "name": "python3"
  },
  "language_info": {
   "codemirror_mode": {
    "name": "ipython",
    "version": 3
   },
   "file_extension": ".py",
   "mimetype": "text/x-python",
   "name": "python",
   "nbconvert_exporter": "python",
   "pygments_lexer": "ipython3",
   "version": "3.10.6"
  }
 },
 "nbformat": 4,
 "nbformat_minor": 5
}
