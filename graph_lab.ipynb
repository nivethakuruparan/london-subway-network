{
 "cells": [
  {
   "cell_type": "markdown",
   "id": "2d65a8a5-860e-41d8-ac27-fabb65da8243",
   "metadata": {},
   "source": [
    "# Graph Lab"
   ]
  },
  {
   "cell_type": "markdown",
   "id": "0287692e-0294-4c54-8ad3-c8d8425ab85c",
   "metadata": {},
   "source": [
    "## Header information:\n",
    "\n",
    "  - Author #1: Nivetha Kuruparan (kuruparn@mcmaster.ca)\n",
    "  - Author #2: Tanveer Brar (brart5@mcmaster.ca)\n",
    "  - Gitlab URL: https://gitlab.cas.mcmaster.ca/brart5/l1-graph-lab\n",
    "  - Avenue to Learn group name: 31"
   ]
  },
  {
   "cell_type": "markdown",
   "id": "e55cf4c1",
   "metadata": {},
   "source": [
    "Calling the metric extractor to retrieve the data from the csv files."
   ]
  },
  {
   "cell_type": "code",
   "execution_count": 1,
   "id": "d930eca9-bac7-44ed-b626-037b948c8a9b",
   "metadata": {},
   "outputs": [],
   "source": [
    "from Python.metrics_extractor import *\n",
    "\n",
    "stations_list = extract_data('_dataset/london.stations.csv')\n",
    "lines_list = extract_data('_dataset/london.lines.csv')\n",
    "connections_list = extract_data('_dataset/london.connections.csv')"
   ]
  },
  {
   "cell_type": "markdown",
   "id": "729a557c",
   "metadata": {},
   "source": [
    "Creating the graph from the data.\n",
    "Computing the number of nodes (stations), the number of edges (connections), and the average degree of all the nodes in the graph."
   ]
  },
  {
   "cell_type": "code",
   "execution_count": 2,
   "id": "d0832686",
   "metadata": {},
   "outputs": [
    {
     "name": "stdout",
     "output_type": "stream",
     "text": [
      "\n",
      "Number of Stations: 302\n",
      "Number of Connections: 406\n",
      "\tUndirected Graph (multiplied edges by 2): 812\n",
      "Average Degree of Nodes: 2.69\n"
     ]
    }
   ],
   "source": [
    "from Python.GraphBuilder.graph import *\n",
    "\n",
    "g = Graph(stations_list, lines_list, connections_list)\n",
    "\n",
    "print(\"\\nNumber of Stations:\", g.num_stations)\n",
    "\n",
    "print(\"Number of Connections:\", int(g.num_connections / 2))\n",
    "print(\"\\tUndirected Graph (multiplied edges by 2):\", g.num_connections)\n",
    "\n",
    "print(\"Average Degree of Nodes:\", round(g.average_degree(), 2))"
   ]
  },
  {
   "cell_type": "markdown",
   "id": "8875c28f",
   "metadata": {},
   "source": [
    "Drawing the distribution of node’s degree."
   ]
  },
  {
   "cell_type": "code",
   "execution_count": 3,
   "id": "2c785c50",
   "metadata": {},
   "outputs": [
    {
     "data": {
      "image/png": "[encoded data removed]",
      "text/plain": [
       "<Figure size 640x480 with 1 Axes>"
      ]
     },
     "metadata": {},
     "output_type": "display_data"
    }
   ],
   "source": [
    "import matplotlib.pyplot as matplot\n",
    "\n",
    "degrees, frequencies = g.degree_frequency()\n",
    "\n",
    "sheet = matplot.figure()\n",
    "\n",
    "bar_graph = sheet.add_axes([0,0,1,1])\n",
    "bar_graph.bar(degrees, frequencies)\n",
    "bar_graph.set_ylabel('Number of Stations')\n",
    "bar_graph.set_xlabel('Degree')\n",
    "bar_graph.set_title(\"Distribution of Station's Degrees\")\n",
    "\n",
    "matplot.show()"
   ]
  },
  {
   "cell_type": "markdown",
   "id": "fd4af651",
   "metadata": {},
   "source": [
    "Designing the Itinerary Structure."
   ]
  },
  {
   "cell_type": "code",
   "execution_count": 4,
   "id": "3974e8fb",
   "metadata": {},
   "outputs": [
    {
     "name": "stdout",
     "output_type": "stream",
     "text": [
      "\n",
      "****************** ITINERARY ******************\n",
      "Starting Station: 11\n",
      "Destination: 22\n",
      "Creating Itinerary...\n",
      "\n",
      "Displaying route with the least amount of time:\n",
      "Station 11 -> Station 28 (Line: 7 Time: 2)\n",
      "Station 28 -> Station 192 (Line: 2 Time: 1)\n",
      "Station 192 -> Station 277 (Line: 11 Time: 2)\n",
      "Station 277 -> Station 89 (Line: 9 Time: 1)\n",
      "Station 89 -> Station 40 (Line: 9 Time: 3)\n",
      "Station 40 -> Station 47 (Line: 9 Time: 2)\n",
      "Station 47 -> Station 22 (Line: 9 Time: 2)\n",
      "Total Time: 13\n",
      "Total Number of Stations: 8\n",
      "\n",
      "Displaying alternative routes:\n",
      "1: Station 11 -> Station 212 -> Station 192 -> Station 277 -> Station 89 -> Station 40 -> Station 47 -> Station 22\n",
      "2: Station 11 -> Station 104 -> Station 90 -> Station 145 -> Station 89 -> Station 40 -> Station 47 -> Station 22\n",
      "3: Station 11 -> Station 212 -> Station 192 -> Station 277 -> Station 89 -> Station 170 -> Station 40 -> Station 47 -> Station 22\n",
      "4: Station 11 -> Station 28 -> Station 192 -> Station 277 -> Station 89 -> Station 170 -> Station 40 -> Station 47 -> Station 22\n",
      "\n",
      "****************** ITINERARY ******************\n",
      "Starting Station: 11\n",
      "Destination: 200\n",
      "Creating Itinerary...\n",
      "\n",
      "Displaying route with the least amount of time:\n",
      "Station 11 -> Station 28 (Line: 7 Time: 2)\n",
      "Station 28 -> Station 192 (Line: 2 Time: 1)\n",
      "Station 192 -> Station 259 (Line: 2 Time: 2)\n",
      "Station 259 -> Station 126 (Line: 2 Time: 2)\n",
      "Station 126 -> Station 48 (Line: 2 Time: 1)\n",
      "Station 48 -> Station 250 (Line: 2 Time: 2)\n",
      "Station 250 -> Station 13 (Line: 2 Time: 2)\n",
      "Station 13 -> Station 156 (Line: 2 Time: 2)\n",
      "Station 156 -> Station 24 (Line: 2 Time: 3)\n",
      "Station 24 -> Station 164 (Line: 2 Time: 2)\n",
      "Station 164 -> Station 33 (Line: 4 Time: 1)\n",
      "Station 33 -> Station 36 (Line: 4 Time: 2)\n",
      "Station 36 -> Station 289 (Line: 4 Time: 2)\n",
      "Station 289 -> Station 200 (Line: 4 Time: 2)\n",
      "Total Time: 26\n",
      "Total Number of Stations: 15\n",
      "\n",
      "Displaying route with the least amount of stations:\n",
      "Station 11 -> Station 28 (Line: 7 Time: 2)\n",
      "Station 28 -> Station 107 (Line: 7 Time: 2)\n",
      "Station 107 -> Station 285 (Line: 7 Time: 2)\n",
      "Station 285 -> Station 279 (Line: 7 Time: 3)\n",
      "Station 279 -> Station 13 (Line: 7 Time: 2)\n",
      "Station 13 -> Station 156 (Line: 12 Time: 4)\n",
      "Station 156 -> Station 24 (Line: 2 Time: 2)\n",
      "Station 24 -> Station 164 (Line: 2 Time: 3)\n",
      "Station 164 -> Station 247 (Line: 2 Time: 2)\n",
      "Station 247 -> Station 289 (Line: 2 Time: 4)\n",
      "Station 289 -> Station 200 (Line: 7 Time: 3)\n",
      "Total Time: 29\n",
      "Total Number of Stations: 12\n",
      "\n",
      "****************** ITINERARY ******************\n",
      "Starting Station: 11\n",
      "Destination: 400\n",
      "Creating Itinerary...\n",
      "\n",
      "Route does not exist! Please enter different starting station or destination.\n",
      "\n",
      "****************** ITINERARY ******************\n",
      "Starting Station: 11\n",
      "Destination: 193\n",
      "Creating Itinerary...\n",
      "\n",
      "Displaying route with the least amount of time:\n",
      "Station 11 -> Station 163 (Line: 1 Time: 1)\n",
      "Station 163 -> Station 82 (Line: 1 Time: 2)\n",
      "Station 82 -> Station 193 (Line: 1 Time: 3)\n",
      "Total Time: 6\n",
      "Total Number of Stations: 4\n",
      "\n",
      "Displaying route with the least amount of stations:\n",
      "Station 11 -> Station 83 (Line: 3 Time: 3)\n",
      "Station 83 -> Station 193 (Line: 3 Time: 3)\n",
      "Total Time: 6\n",
      "Total Number of Stations: 3\n",
      "\n",
      "Displaying alternative routes:\n",
      "1: Station 11 -> Station 28 -> Station 162 -> Station 149 -> Station 208 -> Station 186 -> Station 18 -> Station 193\n",
      "2: Station 11 -> Station 212 -> Station 192 -> Station 28 -> Station 162 -> Station 149 -> Station 208 -> Station 186 -> Station 18 -> Station 193\n",
      "3: Station 11 -> Station 212 -> Station 192 -> Station 107 -> Station 28 -> Station 162 -> Station 149 -> Station 208 -> Station 186 -> Station 18 -> Station 193\n",
      "4: Station 11 -> Station 28 -> Station 107 -> Station 133 -> Station 146 -> Station 236 -> Station 99 -> Station 122 -> Station 186 -> Station 18 -> Station 193\n"
     ]
    },
    {
     "data": {
      "text/plain": [
       "<Python.itinerary.Itinerary at 0x22288f1b1f0>"
      ]
     },
     "execution_count": 4,
     "metadata": {},
     "output_type": "execute_result"
    }
   ],
   "source": [
    "from Python.itinerary import *\n",
    "\n",
    "Itinerary(g.connections, '11', '22') # Case 1: Best Possible Path (Least time AND Least Stations) + Alternative Routes\n",
    "Itinerary(g.connections, '11', '200') # Case 2: Two Possible Paths (One with least time + One with least stations)\n",
    "Itinerary(g.connections, '11', '400') # Case 3: Station does not exsit\n",
    "Itinerary(g.connections, '11', '193') # Case 4: Two Possible Paths + Alternative Routs"
   ]
  },
  {
   "cell_type": "markdown",
   "id": "c6d7fb75",
   "metadata": {},
   "source": [
    "Write a benchmark to compare itinerary finding implementations."
   ]
  }
 ],
 "metadata": {
  "kernelspec": {
   "display_name": "Python 3 (ipykernel)",
   "language": "python",
   "name": "python3"
  },
  "language_info": {
   "codemirror_mode": {
    "name": "ipython",
    "version": 3
   },
   "file_extension": ".py",
   "mimetype": "text/x-python",
   "name": "python",
   "nbconvert_exporter": "python",
   "pygments_lexer": "ipython3",
   "version": "3.10.5"
  }
 },
 "nbformat": 4,
 "nbformat_minor": 5
}
