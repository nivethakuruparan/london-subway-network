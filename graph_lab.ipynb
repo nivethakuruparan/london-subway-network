{
 "cells": [
  {
   "cell_type": "markdown",
   "id": "2d65a8a5-860e-41d8-ac27-fabb65da8243",
   "metadata": {},
   "source": [
    "# Graph Lab"
   ]
  },
  {
   "cell_type": "markdown",
   "id": "0287692e-0294-4c54-8ad3-c8d8425ab85c",
   "metadata": {},
   "source": [
    "## Header information:\n",
    "\n",
    "  - Author #1: Nivetha Kuruparan (kuruparn@mcmaster.ca)\n",
    "  - Author #2: Firstname Lastname (email@mcmaster.ca)\n",
    "  - Gitlab URL: http://gitlab.cas.mcmaster.ca/...\n",
    "  - Avenue to Learn group name: "
   ]
  },
  {
   "cell_type": "code",
   "execution_count": null,
   "id": "d930eca9-bac7-44ed-b626-037b948c8a9b",
   "metadata": {},
   "outputs": [],
   "source": [
    "# import sys\n",
    "# import os\n",
    "\n",
    "# module_path = os.path.abspath(os.path.join('..'))\n",
    "# if module_path not in sys.path:\n",
    "#     sys.path.append(module_path+\"\\Python\")\n",
    "\n",
    "# from bfs import *\n",
    "from Python import metrics_extractor as me \n",
    "from Python.graph import Graph\n",
    "from Python.itinerary import Itinerary \n",
    "import matplotlib.pyplot as pplot \n",
    "\n",
    "def get_node_info(graph):\n",
    "    deg_list = []\n",
    "    for i in graph.connections.values():\n",
    "        deg_list.append((len(i.neighbours)))\n",
    "    max_degree = max(deg_list)\n",
    "    degree = [i for i in range(0, max_degree+1)]\n",
    "    node_freq = [0] * (max_degree+1)\n",
    "    for i in deg_list:\n",
    "        node_freq[i] += 1\n",
    "    return degree, node_freq\n",
    "\n",
    "def main():\n",
    "    stations_list = me.extract_data('_dataset/london.stations.csv')\n",
    "    lines_list = me.extract_data('_dataset/london.lines.csv')\n",
    "    connections_list = me.extract_data('_dataset/london.connections.csv')\n",
    "    \n",
    "    g = Graph(stations_list, lines_list, connections_list)\n",
    "    print(\"\\nNumber of Stations: \", g.num_stations)\n",
    "    print(\"Number of connections: \", g.num_connections)\n",
    "    print(\"Number of Lines: \", g.num_lines)\n",
    "    print(\"Average Degree of Nodes: \", g.avg_degree())\n",
    "    \n",
    "    print(\"\\nPrinting Connections for each Station\")\n",
    "    for key in g.connections.keys():\n",
    "        print(key+\":\",g.connections[key].neighbours)\n",
    "        \n",
    "    Itinerary(g.connections, '11', '273')\n",
    "    Itinerary(g.connections, '11', '193')\n",
    "    Itinerary(g.connections, '11', '400')\n",
    "    \n",
    "    #Draw the distribution of node’s degree (x-axis is the degree, and y-axis is the number of nodes with such degree)\n",
    "    get_node_info(g)\n",
    "    degree, node_freq = get_node_info(g)\n",
    "    sheet = pplot.figure()\n",
    "    bar_gr = sheet.add_axes([0,0,1,1])\n",
    "    bar_gr.bar(degree, node_freq)\n",
    "    bar_gr.set_ylabel('Number of Stations')\n",
    "    bar_gr.set_xlabel('Degree(Connecting Stations)')\n",
    "    bar_gr.set_title('Distribution of Station Connection Degrees')\n",
    "    pplot.show()\n",
    "    "
   ]
  },
  {
   "cell_type": "code",
   "execution_count": null,
   "id": "0640b838",
   "metadata": {},
   "outputs": [],
   "source": [
    "main()"
   ]
  }
 ],
 "metadata": {
  "kernelspec": {
   "display_name": "Python 3 (ipykernel)",
   "language": "python",
   "name": "python3"
  },
  "language_info": {
   "codemirror_mode": {
    "name": "ipython",
    "version": 3
   },
   "file_extension": ".py",
   "mimetype": "text/x-python",
   "name": "python",
   "nbconvert_exporter": "python",
   "pygments_lexer": "ipython3",
   "version": "3.10.6"
  }
 },
 "nbformat": 4,
 "nbformat_minor": 5
}
